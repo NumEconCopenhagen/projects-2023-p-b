{
 "cells": [
  {
   "cell_type": "markdown",
   "metadata": {},
   "source": [
    "# Inaugural Project"
   ]
  },
  {
   "attachments": {},
   "cell_type": "markdown",
   "metadata": {},
   "source": [
    "> **Note the following:** \n",
    "> 1. This is an example of how to structure your **inaugural project**.\n",
    "> 1. Remember the general advice on structuring and commenting your code\n",
    "> 1. The `inauguralproject.py` file includes a function which can be used multiple times in this notebook."
   ]
  },
  {
   "cell_type": "markdown",
   "metadata": {},
   "source": [
    "Imports and set magics:"
   ]
  },
  {
   "cell_type": "code",
   "execution_count": null,
   "metadata": {},
   "outputs": [],
   "source": [
    "#HEj\n",
    "\n",
    "import numpy as np\n",
    "import pandas as pd \n",
    "from scipy import optimize\n",
    "import matplotlib.pyplot as plt\n",
    "\n",
    "\n",
    "# autoreload modules when code is run. Otherwise, python will not see recent changes. \n",
    "%load_ext autoreload\n",
    "%autoreload 2\n",
    "\n",
    "# Import your own code\n",
    "import inauguralproject\n",
    "import HouseholdSpecializationModel"
   ]
  },
  {
   "cell_type": "markdown",
   "metadata": {},
   "source": [
    "# Question 1"
   ]
  },
  {
   "cell_type": "markdown",
   "metadata": {},
   "source": [
    "**Explain how you solve the model**"
   ]
  },
  {
   "cell_type": "code",
   "execution_count": null,
   "metadata": {},
   "outputs": [],
   "source": [
    "# code for solving the model (remember documentation and comments)\n",
    "\n",
    "from HouseholdSpecializationModel import HouseholdSpecializationModelClass\n",
    "model = HouseholdSpecializationModelClass()\n",
    "\n",
    "print(model.par.alpha)\n",
    "print(model.par.sigma)\n",
    "\n",
    "model.solve_discrete()\n",
    "#print(model.solve_discrete())\n",
    "\n",
    "\n",
    "\n",
    "Test = HouseholdSpecializationModelClass() \n",
    "\n",
    "#for alpha in (0.25, 0.50, 0.75):\n",
    " #   Test.par.alpha = alpha\n",
    "  #  Test.solve_discrete()\n",
    "   # print(Test.solve_discrete())\n",
    "    \n",
    "\n",
    "\n",
    "#for sigma in (0, 0.5, 1.0):\n",
    "#    model.par.sigma = sigma\n",
    "#    model.solve_discrete()\n",
    "#    print(model.solve_discrete())\n",
    "\n",
    "\n",
    "\n",
    "list_alphas = [0.25, 0.5, 0.75]\n",
    "list_sigmas = [0.5, 1.0, 1.5]\n",
    "results_ratio = {}\n",
    "\n",
    "#Solving\n",
    "for sigma in list_sigmas:\n",
    "    model.par.sigma = sigma\n",
    "    for alpha in list_alphas:\n",
    "        model.par.alpha = alpha\n",
    "        opt = model.solve_discrete()\n",
    "        relative_hours = opt.HF/opt.HM\n",
    "        results_ratio[(alpha, sigma)] = opt.HF/opt.HM\n",
    "\n",
    "        print(f' Sigma = {model.par.sigma:.2f} Alpha = {model.par.alpha:.2f}    Ratio: {relative_hours:.2f}')\n",
    "\n",
    "\n",
    "#Plotting\n",
    "fig, ax = plt.subplots()\n",
    "for sigma in list_sigmas:\n",
    "    y = [results_ratio[(alpha, sigma)] for alpha in list_alphas]\n",
    "    ax.plot(list_alphas, y, label=f\"Sigma={sigma}\")\n",
    "ax.set_xlabel(\"Alpha\")\n",
    "ax.set_ylabel(\"HF/HM\")\n",
    "ax.legend()\n",
    "plt.show()\n",
    "\n",
    "\n"
   ]
  },
  {
   "cell_type": "markdown",
   "metadata": {},
   "source": [
    "# Question 2"
   ]
  },
  {
   "cell_type": "markdown",
   "metadata": {},
   "source": [
    "Explain your code and procedure"
   ]
  },
  {
   "cell_type": "code",
   "execution_count": null,
   "metadata": {},
   "outputs": [],
   "source": [
    "# code"
   ]
  },
  {
   "cell_type": "markdown",
   "metadata": {},
   "source": [
    "# Question 3"
   ]
  },
  {
   "cell_type": "markdown",
   "metadata": {},
   "source": [
    "Explain your code and procedure"
   ]
  },
  {
   "cell_type": "code",
   "execution_count": null,
   "metadata": {},
   "outputs": [],
   "source": [
    "# code"
   ]
  },
  {
   "cell_type": "markdown",
   "metadata": {},
   "source": [
    "ADD CONCISE CONLUSION."
   ]
  }
 ],
 "metadata": {
  "kernelspec": {
   "display_name": "base",
   "language": "python",
   "name": "python3"
  },
  "language_info": {
   "codemirror_mode": {
    "name": "ipython",
    "version": 3
   },
   "file_extension": ".py",
   "mimetype": "text/x-python",
   "name": "python",
   "nbconvert_exporter": "python",
   "pygments_lexer": "ipython3",
   "version": "3.9.16"
  },
  "toc-autonumbering": true,
  "vscode": {
   "interpreter": {
    "hash": "47ef90cdf3004d3f859f1fb202523c65c07ba7c22eefd261b181f4744e2d0403"
   }
  }
 },
 "nbformat": 4,
 "nbformat_minor": 4
}
