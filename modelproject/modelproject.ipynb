{
 "cells": [
  {
   "cell_type": "markdown",
   "metadata": {},
   "source": [
    "# YOUR PROJECT TITLE"
   ]
  },
  {
   "attachments": {},
   "cell_type": "markdown",
   "metadata": {},
   "source": [
    "> **Note the following:** \n",
    "> 1. This is *not* meant to be an example of an actual **model analysis project**, just an example of how to structure such a project.\n",
    "> 1. Remember the general advice on structuring and commenting your code\n",
    "> 1. The `modelproject.py` file includes a function which could be used multiple times in this notebook."
   ]
  },
  {
   "cell_type": "markdown",
   "metadata": {},
   "source": [
    "Imports and set magics:"
   ]
  },
  {
   "cell_type": "code",
   "execution_count": 1,
   "metadata": {},
   "outputs": [],
   "source": [
    "import numpy as np\n",
    "from scipy import optimize\n",
    "import sympy as sm\n",
    "\n",
    "# autoreload modules when code is run\n",
    "%load_ext autoreload\n",
    "%autoreload 2\n",
    "\n",
    "# local modules\n",
    "import modelproject"
   ]
  },
  {
   "cell_type": "markdown",
   "metadata": {},
   "source": [
    "# Model description"
   ]
  },
  {
   "attachments": {},
   "cell_type": "markdown",
   "metadata": {},
   "source": [
    "## Trade union: Labour market model\n",
    "In the following assignment, we have chosen to implement and solve the trade union model as presented in XX by ...  (XXXX). \n",
    "\n",
    "We consider a labour market with inelastic labour supply. Wages are chosen by unions who represent homogeneous agents "
   ]
  },
  {
   "cell_type": "code",
   "execution_count": null,
   "metadata": {},
   "outputs": [],
   "source": []
  },
  {
   "cell_type": "markdown",
   "metadata": {},
   "source": [
    "**Write out the model in equations here.** \n",
    "\n",
    "Make sure you explain well the purpose of the model and comment so that other students who may not have seen it before can follow.  "
   ]
  },
  {
   "cell_type": "markdown",
   "metadata": {},
   "source": [
    "## Analytical solution"
   ]
  },
  {
   "cell_type": "markdown",
   "metadata": {},
   "source": [
    "If your model allows for an analytical solution, you should provide here.\n",
    "\n",
    "You may use Sympy for this. Then you can characterize the solution as a function of a parameter of the model.\n",
    "\n",
    "To characterize the solution, first derive a steady state equation as a function of a parameter using Sympy.solve and then turn it into a python function by Sympy.lambdify. See the lecture notes for details. "
   ]
  },
  {
   "cell_type": "markdown",
   "metadata": {},
   "source": [
    "## Numerical solution"
   ]
  },
  {
   "cell_type": "markdown",
   "metadata": {},
   "source": [
    "You can always solve a model numerically. \n",
    "\n",
    "Define first the set of parameters you need. \n",
    "\n",
    "Then choose one of the optimization algorithms that we have gone through in the lectures based on what you think is most fitting for your model.\n",
    "\n",
    "Are there any problems with convergence? Does the model converge for all starting values? Make a lot of testing to figure these things out. "
   ]
  },
  {
   "cell_type": "markdown",
   "metadata": {},
   "source": [
    "# Further analysis"
   ]
  },
  {
   "cell_type": "markdown",
   "metadata": {},
   "source": [
    "Make detailed vizualizations of how your model changes with parameter values. \n",
    "\n",
    "Try to make an extension of the model. "
   ]
  },
  {
   "cell_type": "markdown",
   "metadata": {},
   "source": [
    "# Conclusion"
   ]
  },
  {
   "cell_type": "markdown",
   "metadata": {},
   "source": [
    "Add concise conclusion. "
   ]
  },
  {
   "cell_type": "code",
   "execution_count": 190,
   "metadata": {},
   "outputs": [
    {
     "name": "stdout",
     "output_type": "stream",
     "text": [
      "The autoreload extension is already loaded. To reload it, use:\n",
      "  %reload_ext autoreload\n"
     ]
    },
    {
     "name": "stderr",
     "output_type": "stream",
     "text": [
      "C:\\Users\\bjark\\AppData\\Local\\Temp\\ipykernel_29988\\1419958519.py:8: MatplotlibDeprecationWarning: The seaborn styles shipped by Matplotlib are deprecated since 3.6, as they no longer correspond to the styles shipped by seaborn. However, they will remain available as 'seaborn-v0_8-<style>'. Alternatively, directly use the seaborn API instead.\n",
      "  plt.style.use('seaborn-dark-palette')\n"
     ]
    }
   ],
   "source": [
    "import numpy as np\n",
    "import pandas as pd \n",
    "from scipy import optimize\n",
    "import matplotlib.pyplot as plt\n",
    "import seaborn as sns\n",
    "\n",
    "# Predefine options for all plots\n",
    "plt.style.use('seaborn-dark-palette')\n",
    "plt.rcParams.update({\"axes.grid\":True,\"grid.color\":\"black\",\"grid.alpha\":\"0.25\",\"grid.linestyle\":\"-\",})\n",
    "plt.rcParams.update({'font.size': 14})\n",
    "\n",
    "# autoreload modules when code is run. Otherwise, python will not see recent changes. \n",
    "%load_ext autoreload\n",
    "%autoreload 2\n",
    "\n",
    "# Import our own code\n",
    "from modelproject import HouseholdSpecializationModelClass\n",
    "model = HouseholdSpecializationModelClass()"
   ]
  },
  {
   "cell_type": "code",
   "execution_count": 198,
   "metadata": {},
   "outputs": [
    {
     "name": "stderr",
     "output_type": "stream",
     "text": [
      "c:\\Users\\bjark\\Desktop\\Python VScode\\New folder\\projects-2023-p-b\\modelproject\\modelproject.py:39: RuntimeWarning: divide by zero encountered in scalar power\n",
      "  Y = (par.sigma/(par.sigma-1)*W)**-par.sigma\n",
      "C:\\Users\\bjark\\AppData\\Local\\Temp\\ipykernel_29988\\616250377.py:9: FutureWarning: The frame.append method is deprecated and will be removed from pandas in a future version. Use pandas.concat instead.\n",
      "  results_df = results_df.append({'W': opt.W, 'L': opt.L, 'eta': eta, 'sigma': sigma}, ignore_index=True)\n",
      "c:\\Users\\bjark\\Desktop\\Python VScode\\New folder\\projects-2023-p-b\\modelproject\\modelproject.py:39: RuntimeWarning: divide by zero encountered in scalar power\n",
      "  Y = (par.sigma/(par.sigma-1)*W)**-par.sigma\n",
      "C:\\Users\\bjark\\AppData\\Local\\Temp\\ipykernel_29988\\616250377.py:9: FutureWarning: The frame.append method is deprecated and will be removed from pandas in a future version. Use pandas.concat instead.\n",
      "  results_df = results_df.append({'W': opt.W, 'L': opt.L, 'eta': eta, 'sigma': sigma}, ignore_index=True)\n",
      "c:\\Users\\bjark\\Desktop\\Python VScode\\New folder\\projects-2023-p-b\\modelproject\\modelproject.py:39: RuntimeWarning: divide by zero encountered in scalar power\n",
      "  Y = (par.sigma/(par.sigma-1)*W)**-par.sigma\n",
      "C:\\Users\\bjark\\AppData\\Local\\Temp\\ipykernel_29988\\616250377.py:9: FutureWarning: The frame.append method is deprecated and will be removed from pandas in a future version. Use pandas.concat instead.\n",
      "  results_df = results_df.append({'W': opt.W, 'L': opt.L, 'eta': eta, 'sigma': sigma}, ignore_index=True)\n",
      "c:\\Users\\bjark\\Desktop\\Python VScode\\New folder\\projects-2023-p-b\\modelproject\\modelproject.py:39: RuntimeWarning: divide by zero encountered in scalar power\n",
      "  Y = (par.sigma/(par.sigma-1)*W)**-par.sigma\n",
      "C:\\Users\\bjark\\AppData\\Local\\Temp\\ipykernel_29988\\616250377.py:9: FutureWarning: The frame.append method is deprecated and will be removed from pandas in a future version. Use pandas.concat instead.\n",
      "  results_df = results_df.append({'W': opt.W, 'L': opt.L, 'eta': eta, 'sigma': sigma}, ignore_index=True)\n",
      "c:\\Users\\bjark\\Desktop\\Python VScode\\New folder\\projects-2023-p-b\\modelproject\\modelproject.py:39: RuntimeWarning: divide by zero encountered in scalar power\n",
      "  Y = (par.sigma/(par.sigma-1)*W)**-par.sigma\n",
      "C:\\Users\\bjark\\AppData\\Local\\Temp\\ipykernel_29988\\616250377.py:9: FutureWarning: The frame.append method is deprecated and will be removed from pandas in a future version. Use pandas.concat instead.\n",
      "  results_df = results_df.append({'W': opt.W, 'L': opt.L, 'eta': eta, 'sigma': sigma}, ignore_index=True)\n",
      "c:\\Users\\bjark\\Desktop\\Python VScode\\New folder\\projects-2023-p-b\\modelproject\\modelproject.py:39: RuntimeWarning: divide by zero encountered in scalar power\n",
      "  Y = (par.sigma/(par.sigma-1)*W)**-par.sigma\n",
      "C:\\Users\\bjark\\AppData\\Local\\Temp\\ipykernel_29988\\616250377.py:9: FutureWarning: The frame.append method is deprecated and will be removed from pandas in a future version. Use pandas.concat instead.\n",
      "  results_df = results_df.append({'W': opt.W, 'L': opt.L, 'eta': eta, 'sigma': sigma}, ignore_index=True)\n",
      "c:\\Users\\bjark\\Desktop\\Python VScode\\New folder\\projects-2023-p-b\\modelproject\\modelproject.py:39: RuntimeWarning: divide by zero encountered in scalar power\n",
      "  Y = (par.sigma/(par.sigma-1)*W)**-par.sigma\n",
      "C:\\Users\\bjark\\AppData\\Local\\Temp\\ipykernel_29988\\616250377.py:9: FutureWarning: The frame.append method is deprecated and will be removed from pandas in a future version. Use pandas.concat instead.\n",
      "  results_df = results_df.append({'W': opt.W, 'L': opt.L, 'eta': eta, 'sigma': sigma}, ignore_index=True)\n",
      "c:\\Users\\bjark\\Desktop\\Python VScode\\New folder\\projects-2023-p-b\\modelproject\\modelproject.py:39: RuntimeWarning: divide by zero encountered in scalar power\n",
      "  Y = (par.sigma/(par.sigma-1)*W)**-par.sigma\n",
      "C:\\Users\\bjark\\AppData\\Local\\Temp\\ipykernel_29988\\616250377.py:9: FutureWarning: The frame.append method is deprecated and will be removed from pandas in a future version. Use pandas.concat instead.\n",
      "  results_df = results_df.append({'W': opt.W, 'L': opt.L, 'eta': eta, 'sigma': sigma}, ignore_index=True)\n",
      "c:\\Users\\bjark\\Desktop\\Python VScode\\New folder\\projects-2023-p-b\\modelproject\\modelproject.py:39: RuntimeWarning: divide by zero encountered in scalar power\n",
      "  Y = (par.sigma/(par.sigma-1)*W)**-par.sigma\n",
      "C:\\Users\\bjark\\AppData\\Local\\Temp\\ipykernel_29988\\616250377.py:9: FutureWarning: The frame.append method is deprecated and will be removed from pandas in a future version. Use pandas.concat instead.\n",
      "  results_df = results_df.append({'W': opt.W, 'L': opt.L, 'eta': eta, 'sigma': sigma}, ignore_index=True)\n",
      "c:\\Users\\bjark\\Desktop\\Python VScode\\New folder\\projects-2023-p-b\\modelproject\\modelproject.py:39: RuntimeWarning: divide by zero encountered in scalar power\n",
      "  Y = (par.sigma/(par.sigma-1)*W)**-par.sigma\n",
      "C:\\Users\\bjark\\AppData\\Local\\Temp\\ipykernel_29988\\616250377.py:9: FutureWarning: The frame.append method is deprecated and will be removed from pandas in a future version. Use pandas.concat instead.\n",
      "  results_df = results_df.append({'W': opt.W, 'L': opt.L, 'eta': eta, 'sigma': sigma}, ignore_index=True)\n",
      "c:\\Users\\bjark\\Desktop\\Python VScode\\New folder\\projects-2023-p-b\\modelproject\\modelproject.py:39: RuntimeWarning: divide by zero encountered in scalar power\n",
      "  Y = (par.sigma/(par.sigma-1)*W)**-par.sigma\n",
      "C:\\Users\\bjark\\AppData\\Local\\Temp\\ipykernel_29988\\616250377.py:9: FutureWarning: The frame.append method is deprecated and will be removed from pandas in a future version. Use pandas.concat instead.\n",
      "  results_df = results_df.append({'W': opt.W, 'L': opt.L, 'eta': eta, 'sigma': sigma}, ignore_index=True)\n",
      "c:\\Users\\bjark\\Desktop\\Python VScode\\New folder\\projects-2023-p-b\\modelproject\\modelproject.py:39: RuntimeWarning: divide by zero encountered in scalar power\n",
      "  Y = (par.sigma/(par.sigma-1)*W)**-par.sigma\n",
      "C:\\Users\\bjark\\AppData\\Local\\Temp\\ipykernel_29988\\616250377.py:9: FutureWarning: The frame.append method is deprecated and will be removed from pandas in a future version. Use pandas.concat instead.\n",
      "  results_df = results_df.append({'W': opt.W, 'L': opt.L, 'eta': eta, 'sigma': sigma}, ignore_index=True)\n",
      "c:\\Users\\bjark\\Desktop\\Python VScode\\New folder\\projects-2023-p-b\\modelproject\\modelproject.py:39: RuntimeWarning: divide by zero encountered in scalar power\n",
      "  Y = (par.sigma/(par.sigma-1)*W)**-par.sigma\n",
      "C:\\Users\\bjark\\AppData\\Local\\Temp\\ipykernel_29988\\616250377.py:9: FutureWarning: The frame.append method is deprecated and will be removed from pandas in a future version. Use pandas.concat instead.\n",
      "  results_df = results_df.append({'W': opt.W, 'L': opt.L, 'eta': eta, 'sigma': sigma}, ignore_index=True)\n",
      "c:\\Users\\bjark\\Desktop\\Python VScode\\New folder\\projects-2023-p-b\\modelproject\\modelproject.py:39: RuntimeWarning: divide by zero encountered in scalar power\n",
      "  Y = (par.sigma/(par.sigma-1)*W)**-par.sigma\n",
      "C:\\Users\\bjark\\AppData\\Local\\Temp\\ipykernel_29988\\616250377.py:9: FutureWarning: The frame.append method is deprecated and will be removed from pandas in a future version. Use pandas.concat instead.\n",
      "  results_df = results_df.append({'W': opt.W, 'L': opt.L, 'eta': eta, 'sigma': sigma}, ignore_index=True)\n",
      "c:\\Users\\bjark\\Desktop\\Python VScode\\New folder\\projects-2023-p-b\\modelproject\\modelproject.py:39: RuntimeWarning: divide by zero encountered in scalar power\n",
      "  Y = (par.sigma/(par.sigma-1)*W)**-par.sigma\n",
      "C:\\Users\\bjark\\AppData\\Local\\Temp\\ipykernel_29988\\616250377.py:9: FutureWarning: The frame.append method is deprecated and will be removed from pandas in a future version. Use pandas.concat instead.\n",
      "  results_df = results_df.append({'W': opt.W, 'L': opt.L, 'eta': eta, 'sigma': sigma}, ignore_index=True)\n",
      "c:\\Users\\bjark\\Desktop\\Python VScode\\New folder\\projects-2023-p-b\\modelproject\\modelproject.py:39: RuntimeWarning: divide by zero encountered in scalar power\n",
      "  Y = (par.sigma/(par.sigma-1)*W)**-par.sigma\n",
      "C:\\Users\\bjark\\AppData\\Local\\Temp\\ipykernel_29988\\616250377.py:9: FutureWarning: The frame.append method is deprecated and will be removed from pandas in a future version. Use pandas.concat instead.\n",
      "  results_df = results_df.append({'W': opt.W, 'L': opt.L, 'eta': eta, 'sigma': sigma}, ignore_index=True)\n",
      "c:\\Users\\bjark\\Desktop\\Python VScode\\New folder\\projects-2023-p-b\\modelproject\\modelproject.py:39: RuntimeWarning: divide by zero encountered in scalar power\n",
      "  Y = (par.sigma/(par.sigma-1)*W)**-par.sigma\n",
      "C:\\Users\\bjark\\AppData\\Local\\Temp\\ipykernel_29988\\616250377.py:9: FutureWarning: The frame.append method is deprecated and will be removed from pandas in a future version. Use pandas.concat instead.\n",
      "  results_df = results_df.append({'W': opt.W, 'L': opt.L, 'eta': eta, 'sigma': sigma}, ignore_index=True)\n",
      "c:\\Users\\bjark\\Desktop\\Python VScode\\New folder\\projects-2023-p-b\\modelproject\\modelproject.py:39: RuntimeWarning: divide by zero encountered in scalar power\n",
      "  Y = (par.sigma/(par.sigma-1)*W)**-par.sigma\n",
      "C:\\Users\\bjark\\AppData\\Local\\Temp\\ipykernel_29988\\616250377.py:9: FutureWarning: The frame.append method is deprecated and will be removed from pandas in a future version. Use pandas.concat instead.\n",
      "  results_df = results_df.append({'W': opt.W, 'L': opt.L, 'eta': eta, 'sigma': sigma}, ignore_index=True)\n",
      "c:\\Users\\bjark\\Desktop\\Python VScode\\New folder\\projects-2023-p-b\\modelproject\\modelproject.py:39: RuntimeWarning: divide by zero encountered in scalar power\n",
      "  Y = (par.sigma/(par.sigma-1)*W)**-par.sigma\n",
      "C:\\Users\\bjark\\AppData\\Local\\Temp\\ipykernel_29988\\616250377.py:9: FutureWarning: The frame.append method is deprecated and will be removed from pandas in a future version. Use pandas.concat instead.\n",
      "  results_df = results_df.append({'W': opt.W, 'L': opt.L, 'eta': eta, 'sigma': sigma}, ignore_index=True)\n",
      "c:\\Users\\bjark\\Desktop\\Python VScode\\New folder\\projects-2023-p-b\\modelproject\\modelproject.py:39: RuntimeWarning: divide by zero encountered in scalar power\n",
      "  Y = (par.sigma/(par.sigma-1)*W)**-par.sigma\n",
      "C:\\Users\\bjark\\AppData\\Local\\Temp\\ipykernel_29988\\616250377.py:9: FutureWarning: The frame.append method is deprecated and will be removed from pandas in a future version. Use pandas.concat instead.\n",
      "  results_df = results_df.append({'W': opt.W, 'L': opt.L, 'eta': eta, 'sigma': sigma}, ignore_index=True)\n"
     ]
    },
    {
     "name": "stdout",
     "output_type": "stream",
     "text": [
      "           W         L  eta     sigma\n",
      "0   1.500000  0.104750  2.0  1.500000\n",
      "1   1.291687  0.140002  2.0  1.631579\n",
      "2   1.155151  0.177132  2.0  1.763158\n",
      "3   1.058838  0.216569  2.0  1.894737\n",
      "4   0.987183  0.258690  2.0  2.026316\n",
      "5   0.931824  0.303923  2.0  2.157895\n",
      "6   0.887756  0.352826  2.0  2.289474\n",
      "7   0.851868  0.405841  2.0  2.421053\n",
      "8   0.822021  0.463475  2.0  2.552632\n",
      "9   0.796875  0.526334  2.0  2.684211\n",
      "10  0.775391  0.595220  2.0  2.815789\n",
      "11  0.756775  0.670261  2.0  2.947368\n",
      "12  0.740479  0.752511  2.0  3.078947\n",
      "13  0.726196  0.843030  2.0  3.210526\n",
      "14  0.713501  0.941950  2.0  3.342105\n",
      "15  0.712158  0.999522  2.0  3.473684\n",
      "16  0.722656  0.999553  2.0  3.605263\n",
      "17  0.732422  0.999548  2.0  3.736842\n",
      "18  0.741516  0.999898  2.0  3.868421\n",
      "19  0.750000  0.999675  2.0  4.000000\n"
     ]
    },
    {
     "data": {
      "image/png": "[encoded data removed]",
      "text/plain": [
       "<Figure size 640x480 with 1 Axes>"
      ]
     },
     "metadata": {},
     "output_type": "display_data"
    }
   ],
   "source": [
    "list_etas = np.linspace(0.8, 2, 5)\n",
    "list_sigmas = np.linspace(1.5, 4, 20)\n",
    "results_df = pd.DataFrame(columns=['W', 'L', 'eta', 'sigma'])\n",
    "\n",
    "# We solve the model for each eta and sigma in the above vectors using a loop\n",
    "for sigma in list_sigmas:\n",
    "    model.par.sigma = sigma\n",
    "    opt = model.solve() # Calling the model from the class\n",
    "    results_df = results_df.append({'W': opt.W, 'L': opt.L, 'eta': eta, 'sigma': sigma}, ignore_index=True)\n",
    "\n",
    "print(results_df)\n",
    "\n",
    "\n",
    "fig, ax = plt.subplots()\n",
    "\n",
    "ax.plot(results_df['sigma'], results_df['L'])\n",
    "ax.set_xlabel('sigma')\n",
    "ax.set_ylabel('L')\n",
    "ax.set_title('Optimal L vs. sigma')\n",
    "plt.show()\n",
    "\n",
    "\n"
   ]
  }
 ],
 "metadata": {
  "kernelspec": {
   "display_name": "base",
   "language": "python",
   "name": "python3"
  },
  "language_info": {
   "codemirror_mode": {
    "name": "ipython",
    "version": 3
   },
   "file_extension": ".py",
   "mimetype": "text/x-python",
   "name": "python",
   "nbconvert_exporter": "python",
   "pygments_lexer": "ipython3",
   "version": "3.9.16"
  },
  "toc-autonumbering": true,
  "vscode": {
   "interpreter": {
    "hash": "47ef90cdf3004d3f859f1fb202523c65c07ba7c22eefd261b181f4744e2d0403"
   }
  }
 },
 "nbformat": 4,
 "nbformat_minor": 4
}
